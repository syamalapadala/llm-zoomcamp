{
 "cells": [
  {
   "cell_type": "code",
   "execution_count": 1,
   "id": "cd272d4d-bab7-4353-8154-f41cc2745aa4",
   "metadata": {},
   "outputs": [
    {
     "name": "stdout",
     "output_type": "stream",
     "text": [
      "--2024-07-15 16:20:59--  https://raw.githubusercontent.com/alexeygrigorev/minsearch/main/minsearch.py\n",
      "Resolving raw.githubusercontent.com (raw.githubusercontent.com)... 185.199.111.133, 185.199.108.133, 185.199.109.133, ...\n",
      "Connecting to raw.githubusercontent.com (raw.githubusercontent.com)|185.199.111.133|:443... connected.\n",
      "HTTP request sent, awaiting response... 200 OK\n",
      "Length: 3832 (3.7K) [text/plain]\n",
      "Saving to: ‘minsearch.py.1’\n",
      "\n",
      "minsearch.py.1      100%[===================>]   3.74K  --.-KB/s    in 0s      \n",
      "\n",
      "2024-07-15 16:20:59 (45.5 MB/s) - ‘minsearch.py.1’ saved [3832/3832]\n",
      "\n"
     ]
    }
   ],
   "source": [
    "!wget https://raw.githubusercontent.com/alexeygrigorev/minsearch/main/minsearch.py"
   ]
  },
  {
   "cell_type": "code",
   "execution_count": 2,
   "id": "c9b40ee2-d1e8-424d-9fac-552daea50a91",
   "metadata": {},
   "outputs": [],
   "source": [
    "import minsearch"
   ]
  },
  {
   "cell_type": "code",
   "execution_count": 3,
   "id": "fd183290-5a5b-4219-91ea-5fecd54ee37e",
   "metadata": {},
   "outputs": [],
   "source": [
    "import json"
   ]
  },
  {
   "cell_type": "code",
   "execution_count": 4,
   "id": "41b25af2-1edb-4e15-8958-21f1257a4d3b",
   "metadata": {},
   "outputs": [],
   "source": [
    "with open('documents.json','rt') as f_in:\n",
    "    docs_raw=json.load(f_in)"
   ]
  },
  {
   "cell_type": "code",
   "execution_count": 5,
   "id": "5a4d7cc1-ab5f-4865-b322-5c3a77b47131",
   "metadata": {},
   "outputs": [],
   "source": [
    "documents = []\n",
    "\n",
    "for course in docs_raw:\n",
    "    course_name = course['course']\n",
    "\n",
    "    for doc in course['documents']:\n",
    "        doc['course'] = course_name\n",
    "        documents.append(doc)"
   ]
  },
  {
   "cell_type": "code",
   "execution_count": 6,
   "id": "149ef208-6fb0-4f23-9cfa-93a9a597bf7e",
   "metadata": {},
   "outputs": [
    {
     "data": {
      "text/plain": [
       "{'text': \"The purpose of this document is to capture frequently asked technical questions\\nThe exact day and hour of the course will be 15th Jan 2024 at 17h00. The course will start with the first  “Office Hours'' live.1\\nSubscribe to course public Google Calendar (it works from Desktop only).\\nRegister before the course starts using this link.\\nJoin the course Telegram channel with announcements.\\nDon’t forget to register in DataTalks.Club's Slack and join the channel.\",\n",
       " 'section': 'General course-related questions',\n",
       " 'question': 'Course - When will the course start?',\n",
       " 'course': 'data-engineering-zoomcamp'}"
      ]
     },
     "execution_count": 6,
     "metadata": {},
     "output_type": "execute_result"
    }
   ],
   "source": [
    "documents[0]"
   ]
  },
  {
   "cell_type": "code",
   "execution_count": 7,
   "id": "9ebcbdf1-c142-4ab7-97c0-34cf17e9f917",
   "metadata": {},
   "outputs": [],
   "source": [
    "index=minsearch.Index(text_fields=[\"question\",\"text\",\"section\"],\n",
    "                keyword_fields=[\"course\"])"
   ]
  },
  {
   "cell_type": "code",
   "execution_count": 19,
   "id": "fb9ea5ff-54fd-4991-9182-77eb0a2ec38f",
   "metadata": {},
   "outputs": [],
   "source": [
    "query=\"This course has been already started, can i enroll?\""
   ]
  },
  {
   "cell_type": "code",
   "execution_count": 20,
   "id": "3ac42c91-eb35-47ca-bc7d-058f56446533",
   "metadata": {},
   "outputs": [
    {
     "data": {
      "text/plain": [
       "<minsearch.Index at 0x74a3f8d2d7b0>"
      ]
     },
     "execution_count": 20,
     "metadata": {},
     "output_type": "execute_result"
    }
   ],
   "source": [
    "index.fit(documents)"
   ]
  },
  {
   "cell_type": "code",
   "execution_count": 21,
   "id": "cf3b659e-89c9-4d39-a4a6-64f25f669c57",
   "metadata": {},
   "outputs": [],
   "source": [
    "boost={\"question\":3.0,\"section\":0.5}\n",
    "results=index.search(query=query,\n",
    "                     boost_dict=boost,\n",
    "                     num_results=5)\n",
    "             "
   ]
  },
  {
   "cell_type": "code",
   "execution_count": 23,
   "id": "edb2250b-f115-498b-8fa4-4a302efab303",
   "metadata": {},
   "outputs": [
    {
     "data": {
      "text/plain": [
       "[{'text': 'Yes, you can. You won’t be able to submit some of the homeworks, but you can still take part in the course.\\nIn order to get a certificate, you need to submit 2 out of 3 course projects and review 3 peers’ Projects by the deadline. It means that if you join the course at the end of November and manage to work on two projects, you will still be eligible for a certificate.',\n",
       "  'section': 'General course-related questions',\n",
       "  'question': 'The course has already started. Can I still join it?',\n",
       "  'course': 'machine-learning-zoomcamp'},\n",
       " {'text': 'GitHub - DataTalksClub data-engineering-zoomcamp#prerequisites',\n",
       "  'section': 'General course-related questions',\n",
       "  'question': 'Course - What are the prerequisites for this course?',\n",
       "  'course': 'data-engineering-zoomcamp'},\n",
       " {'text': 'Yes, we will keep all the materials after the course finishes, so you can follow the course at your own pace after it finishes.\\nYou can also continue looking at the homeworks and continue preparing for the next cohort. I guess you can also start working on your final capstone project.',\n",
       "  'section': 'General course-related questions',\n",
       "  'question': 'Course - Can I follow the course after it finishes?',\n",
       "  'course': 'data-engineering-zoomcamp'},\n",
       " {'text': 'if you’ve got the error\\n│ Error: Error updating Dataset \"projects/<your-project-id>/datasets/demo_dataset\": googleapi: Error 403: Billing has not been enabled for this project. Enable billing at https://console.cloud.google.com/billing. The default table expiration time must be less than 60 days, billingNotEnabled\\nbut you’ve set your billing account indeed, then try to disable billing for the project and enable it again. It worked for ME!',\n",
       "  'section': 'Module 1: Docker and Terraform',\n",
       "  'question': 'Billing account has not been enabled for this project. But you’ve done it indeed!',\n",
       "  'course': 'data-engineering-zoomcamp'},\n",
       " {'text': \"The purpose of this document is to capture frequently asked technical questions\\nThe exact day and hour of the course will be 15th Jan 2024 at 17h00. The course will start with the first  “Office Hours'' live.1\\nSubscribe to course public Google Calendar (it works from Desktop only).\\nRegister before the course starts using this link.\\nJoin the course Telegram channel with announcements.\\nDon’t forget to register in DataTalks.Club's Slack and join the channel.\",\n",
       "  'section': 'General course-related questions',\n",
       "  'question': 'Course - When will the course start?',\n",
       "  'course': 'data-engineering-zoomcamp'}]"
      ]
     },
     "execution_count": 23,
     "metadata": {},
     "output_type": "execute_result"
    }
   ],
   "source": [
    "results"
   ]
  },
  {
   "cell_type": "code",
   "execution_count": 12,
   "id": "2acd6b18-8e84-4dde-95f5-ff284d6f5592",
   "metadata": {},
   "outputs": [],
   "source": [
    "! pip install -q -U google-generativeai"
   ]
  },
  {
   "cell_type": "code",
   "execution_count": 13,
   "id": "767e1967-e401-4974-83e9-2b9d5ac4c5c2",
   "metadata": {},
   "outputs": [],
   "source": [
    "import google.generativeai as genai"
   ]
  },
  {
   "cell_type": "code",
   "execution_count": 14,
   "id": "710623d6-3927-4004-9bad-49690268b243",
   "metadata": {},
   "outputs": [],
   "source": [
    "model=genai.GenerativeModel('gemini-pro')"
   ]
  },
  {
   "cell_type": "code",
   "execution_count": 15,
   "id": "6df05039-5697-4c36-93e5-ee511d276bb9",
   "metadata": {},
   "outputs": [],
   "source": [
    "response=model.generate_content(\"essay on global warming?\")"
   ]
  },
  {
   "cell_type": "code",
   "execution_count": 16,
   "id": "aa8890f2-0bad-4130-8107-0a4c58b7150e",
   "metadata": {},
   "outputs": [
    {
     "data": {
      "text/plain": [
       "\"**Global Warming: A Pressing Issue for Humankind**\\n\\nGlobal warming, a phenomenon characterized by the rise in average global temperatures, has emerged as one of the most pressing environmental challenges of our time. This essay will delve into the causes, effects, and potential solutions to global warming, highlighting its profound implications for humankind.\\n\\n**Causes of Global Warming**\\n\\nThe primary cause of global warming is the increased emission of greenhouse gases (GHGs) into the atmosphere. Human activities, such as burning fossil fuels for transportation and electricity generation, contribute to the release of carbon dioxide (CO2), methane (CH4), and nitrous oxide (N2O). These gases trap heat in the Earth's atmosphere, leading to a gradual increase in global temperatures.\\n\\n**Effects of Global Warming**\\n\\nGlobal warming has far-reaching effects on both natural and human systems. Rising temperatures result in:\\n\\n* **Extreme Weather Events:** Increased frequency and intensity of hurricanes, heat waves, droughts, and floods.\\n* **Sea Level Rise:** Melting glaciers and polar ice caps cause sea levels to rise, threatening coastal communities and ecosystems.\\n* **Ocean Acidification:** Absorption of CO2 by oceans reduces their pH, making it difficult for marine organisms to build shells and skeletons.\\n* **Loss of Biodiversity:** Changes in temperature and precipitation patterns alter ecosystems, leading to species extinction.\\n* **Health Impacts:** Heat-related illnesses, air pollution, and the spread of infectious diseases pose health risks.\\n\\n**Potential Solutions**\\n\\nMitigating global warming requires a concerted global effort. Key solutions include:\\n\\n* **Reducing GHG Emissions:** Transitioning to renewable energy sources (e.g., solar, wind, hydro), increasing energy efficiency, and shifting to sustainable transportation.\\n* **Carbon Capture and Storage (CCS):** Technologies that capture and store CO2 from industrial processes and power plants.\\n* **Forestation and Afforestation:** Planting trees, which absorb CO2 and provide a natural carbon sink.\\n* **International Cooperation:** Global agreements (e.g., the Paris Agreement) set emissions reduction targets and provide financial support for developing countries.\\n* **Environmental Education and Awareness:** Educating the public about the causes and effects of global warming promotes sustainable choices.\\n\\n**Conclusion**\\n\\nGlobal warming poses significant threats to the planet and its inhabitants. While its impacts are already being felt, it is not too late to take action. By implementing comprehensive solutions, embracing renewable energy, and fostering international collaboration, we can mitigate the worst effects of global warming and safeguard the well-being of future generations. The time for decisive action is now, for the sake of ourselves and the planet we call home.\""
      ]
     },
     "execution_count": 16,
     "metadata": {},
     "output_type": "execute_result"
    }
   ],
   "source": [
    "response.text"
   ]
  },
  {
   "cell_type": "code",
   "execution_count": 17,
   "id": "7174760e-7d4c-420e-9beb-8d03954af725",
   "metadata": {},
   "outputs": [],
   "source": [
    "prompt_template=\"\"\"\n",
    "you are a course teaching assistant. Answer the QUESTION based on the CONTEXT.\n",
    "use only the facts from the CONTEXT when answering the QUESTION.\n",
    "If the context does not have the answer, output None.\n",
    "\n",
    "QUESTION: {question}\n",
    "CONTEXT : {context}\n",
    "\"\"\""
   ]
  },
  {
   "cell_type": "code",
   "execution_count": 25,
   "id": "b4a450cf-eff2-4528-9ef1-1ad8ed354c18",
   "metadata": {},
   "outputs": [],
   "source": [
    "context=\"\"\n",
    "for doc in results:\n",
    "    context= context+f\"section: {doc['section']}\\nquestion:{doc['question']}\\nanswer:{doc['text']}\\n\\n\""
   ]
  },
  {
   "cell_type": "code",
   "execution_count": 27,
   "id": "303e91bd-7dc7-4269-98a8-5697a7a590cb",
   "metadata": {},
   "outputs": [
    {
     "name": "stdout",
     "output_type": "stream",
     "text": [
      "section: General course-related questions\n",
      "question:The course has already started. Can I still join it?\n",
      "answer:Yes, you can. You won’t be able to submit some of the homeworks, but you can still take part in the course.\n",
      "In order to get a certificate, you need to submit 2 out of 3 course projects and review 3 peers’ Projects by the deadline. It means that if you join the course at the end of November and manage to work on two projects, you will still be eligible for a certificate.\n",
      "\n",
      "section: General course-related questions\n",
      "question:Course - What are the prerequisites for this course?\n",
      "answer:GitHub - DataTalksClub data-engineering-zoomcamp#prerequisites\n",
      "\n",
      "section: General course-related questions\n",
      "question:Course - Can I follow the course after it finishes?\n",
      "answer:Yes, we will keep all the materials after the course finishes, so you can follow the course at your own pace after it finishes.\n",
      "You can also continue looking at the homeworks and continue preparing for the next cohort. I guess you can also start working on your final capstone project.\n",
      "\n",
      "section: Module 1: Docker and Terraform\n",
      "question:Billing account has not been enabled for this project. But you’ve done it indeed!\n",
      "answer:if you’ve got the error\n",
      "│ Error: Error updating Dataset \"projects/<your-project-id>/datasets/demo_dataset\": googleapi: Error 403: Billing has not been enabled for this project. Enable billing at https://console.cloud.google.com/billing. The default table expiration time must be less than 60 days, billingNotEnabled\n",
      "but you’ve set your billing account indeed, then try to disable billing for the project and enable it again. It worked for ME!\n",
      "\n",
      "section: General course-related questions\n",
      "question:Course - When will the course start?\n",
      "answer:The purpose of this document is to capture frequently asked technical questions\n",
      "The exact day and hour of the course will be 15th Jan 2024 at 17h00. The course will start with the first  “Office Hours'' live.1\n",
      "Subscribe to course public Google Calendar (it works from Desktop only).\n",
      "Register before the course starts using this link.\n",
      "Join the course Telegram channel with announcements.\n",
      "Don’t forget to register in DataTalks.Club's Slack and join the channel.\n",
      "\n",
      "\n"
     ]
    }
   ],
   "source": [
    "print(context)"
   ]
  },
  {
   "cell_type": "code",
   "execution_count": 35,
   "id": "579030c6-0860-4469-b4e1-874f30841fbc",
   "metadata": {},
   "outputs": [],
   "source": [
    "prompt=prompt_template.format(question=\"This course has been already started, can i enroll?\",context=context)"
   ]
  },
  {
   "cell_type": "code",
   "execution_count": 36,
   "id": "0c66e975-91a8-4514-b35a-5f7ce734a255",
   "metadata": {},
   "outputs": [],
   "source": [
    "response=model.generate_content(prompt)"
   ]
  },
  {
   "cell_type": "code",
   "execution_count": 37,
   "id": "7fe829b8-3552-462a-9f7b-b8b22f413660",
   "metadata": {},
   "outputs": [
    {
     "data": {
      "text/plain": [
       "'Yes, you can. You won’t be able to submit some of the homeworks, but you can still take part in the course.'"
      ]
     },
     "execution_count": 37,
     "metadata": {},
     "output_type": "execute_result"
    }
   ],
   "source": [
    "response.text"
   ]
  },
  {
   "cell_type": "code",
   "execution_count": null,
   "id": "b61a9c26-dc7b-4750-a04e-1da2565d13d4",
   "metadata": {},
   "outputs": [],
   "source": []
  }
 ],
 "metadata": {
  "kernelspec": {
   "display_name": "Python 3 (ipykernel)",
   "language": "python",
   "name": "python3"
  },
  "language_info": {
   "codemirror_mode": {
    "name": "ipython",
    "version": 3
   },
   "file_extension": ".py",
   "mimetype": "text/x-python",
   "name": "python",
   "nbconvert_exporter": "python",
   "pygments_lexer": "ipython3",
   "version": "3.10.13"
  }
 },
 "nbformat": 4,
 "nbformat_minor": 5
}
